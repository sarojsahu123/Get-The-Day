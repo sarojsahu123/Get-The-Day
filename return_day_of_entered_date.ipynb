{
  "nbformat": 4,
  "nbformat_minor": 0,
  "metadata": {
    "colab": {
      "name": "return day of entered date.ipynb",
      "provenance": [],
      "collapsed_sections": [],
      "authorship_tag": "ABX9TyN5saP216c5ruQVhL6k9S2D",
      "include_colab_link": true
    },
    "kernelspec": {
      "name": "python3",
      "display_name": "Python 3"
    },
    "language_info": {
      "name": "python"
    }
  },
  "cells": [
    {
      "cell_type": "markdown",
      "metadata": {
        "id": "view-in-github",
        "colab_type": "text"
      },
      "source": [
        "<a href=\"https://colab.research.google.com/github/sarojsahu123/Get-The-Day/blob/main/return_day_of_entered_date.ipynb\" target=\"_parent\"><img src=\"https://colab.research.google.com/assets/colab-badge.svg\" alt=\"Open In Colab\"/></a>"
      ]
    },
    {
      "cell_type": "markdown",
      "metadata": {
        "id": "6v-jRKUd8oZG"
      },
      "source": [
        "This program will return the day on which your entered date falls."
      ]
    },
    {
      "cell_type": "code",
      "metadata": {
        "colab": {
          "base_uri": "https://localhost:8080/"
        },
        "id": "dl7bZs727jth",
        "outputId": "8cc6f83f-298c-48bc-ee76-b49f6e5d8f9e"
      },
      "source": [
        "#Enter the date,month and year in proper format which is given.1\n",
        "print('Enter year[yyyy]: ',end='')\n",
        "yr=int(input())\n",
        "print('Enter month[mm]: ',end='')\n",
        "month=int(input())\n",
        "print('Enter date[dd]: ',end='')\n",
        "date=int(input())\n"
      ],
      "execution_count": 1,
      "outputs": [
        {
          "name": "stdout",
          "output_type": "stream",
          "text": [
            "Enter year[yyyy]: 2022\n",
            "Enter month[mm]: 03\n",
            "Enter date[dd]: 26\n"
          ]
        }
      ]
    },
    {
      "cell_type": "code",
      "metadata": {
        "id": "BHZ1jJ-K8ILP"
      },
      "source": [
        "total_days=0\n",
        "#Adding number of days upto the last year\n",
        "for i in range(1,yr):\n",
        "  total_days=total_days+365\n",
        "  if (i%400==0) or (i%4==0 and i%100!=0):     #condition to check for Leap Year\n",
        "    total_days=total_days+1                       # 1 extra day in Leap Year"
      ],
      "execution_count": 2,
      "outputs": []
    },
    {
      "cell_type": "code",
      "metadata": {
        "id": "xMoF8MMf8NZb"
      },
      "source": [
        "#Adding number of days upto the last month\n",
        "for i in range(1,month):\n",
        "  if i==1 or i==3 or i==5 or i==7 or i==8 or i==10 or i==12:\n",
        "    total_days=total_days+31                                        #jan,mar,may,july,aug,oct,dec has 31 days\n",
        "  elif i==2 and ((yr%400==0) or (yr%4==0 and yr%100!=0)):\n",
        "    total_days=total_days+29                                        #Feb month of a leap year has 29 days\n",
        "  elif i==2:\n",
        "    total_days=total_days+28                                        #Feb month of a ordinary year has 28 days\n",
        "  else:\n",
        "    total_days=total_days+30                                        #apr,jun,sep,nov has 30 days"
      ],
      "execution_count": 3,
      "outputs": []
    },
    {
      "cell_type": "code",
      "metadata": {
        "id": "5rCnjpqB8RFT"
      },
      "source": [
        "#Adding number of days till the entered date\n",
        "total_days=total_days+date"
      ],
      "execution_count": 4,
      "outputs": []
    },
    {
      "cell_type": "markdown",
      "metadata": {
        "id": "Xd1AB0auFJIa"
      },
      "source": [
        "Now we have the total number of days from 01-01-0001 to your entered date."
      ]
    },
    {
      "cell_type": "code",
      "metadata": {
        "id": "Yq7hwaVN8TR9"
      },
      "source": [
        "day_date={0:'Sun',1:'Mon',2:'Tue',3:'Wed',4:'Thr',5:'Fri',6:'Sat'}    #day 1 i.e.-01-01-0001 was on Mon Day"
      ],
      "execution_count": 5,
      "outputs": []
    },
    {
      "cell_type": "code",
      "metadata": {
        "id": "R655Xp1U8aNx"
      },
      "source": [
        "odd_days=total_days%7"
      ],
      "execution_count": 6,
      "outputs": []
    },
    {
      "cell_type": "code",
      "metadata": {
        "colab": {
          "base_uri": "https://localhost:8080/",
          "height": 35
        },
        "id": "6tTASz388dRl",
        "outputId": "a18844bc-78de-4dba-d787-fb7383056c89"
      },
      "source": [
        "day_date[odd_days]"
      ],
      "execution_count": 7,
      "outputs": [
        {
          "output_type": "execute_result",
          "data": {
            "text/plain": [
              "'Sat'"
            ],
            "application/vnd.google.colaboratory.intrinsic+json": {
              "type": "string"
            }
          },
          "metadata": {},
          "execution_count": 7
        }
      ]
    },
    {
      "cell_type": "code",
      "metadata": {
        "colab": {
          "base_uri": "https://localhost:8080/"
        },
        "id": "vvWwV6ibG9Gl",
        "outputId": "1e9311da-9b20-43d2-f295-25f2689bd50a"
      },
      "source": [
        "print(f'{date}-{month}-{yr} is on {day_date[odd_days]} Day.')   #Here is my answer"
      ],
      "execution_count": 8,
      "outputs": [
        {
          "output_type": "stream",
          "name": "stdout",
          "text": [
            "26-3-2022 is on Sat Day.\n"
          ]
        }
      ]
    }
  ]
}